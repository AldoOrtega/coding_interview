{
 "cells": [
  {
   "cell_type": "code",
   "execution_count": 14,
   "metadata": {},
   "outputs": [],
   "source": [
    "def compression(string):\n",
    "    lis = \"\"\n",
    "    lis = lis + string[0]\n",
    "    count = 1\n",
    "    for i in range(1,len(string)):\n",
    "        if (string[i]==string[i-1]):\n",
    "            count+=1\n",
    "        else:\n",
    "            lis = lis + str(count) + string[i]\n",
    "            count = 1\n",
    "            \n",
    "    lis = lis + str(count)\n",
    "    \n",
    "    if(len(lis)<len(string)):\n",
    "        return lis\n",
    "    else:\n",
    "        return string"
   ]
  },
  {
   "cell_type": "code",
   "execution_count": 15,
   "metadata": {},
   "outputs": [
    {
     "name": "stdout",
     "output_type": "stream",
     "text": [
      "a2b1c5a3\n"
     ]
    }
   ],
   "source": [
    "print (compression(\"aabcccccaaa\"))"
   ]
  }
 ],
 "metadata": {
  "kernelspec": {
   "display_name": "Python 3",
   "language": "python",
   "name": "python3"
  },
  "language_info": {
   "codemirror_mode": {
    "name": "ipython",
    "version": 3
   },
   "file_extension": ".py",
   "mimetype": "text/x-python",
   "name": "python",
   "nbconvert_exporter": "python",
   "pygments_lexer": "ipython3",
   "version": "3.5.2"
  }
 },
 "nbformat": 4,
 "nbformat_minor": 2
}
