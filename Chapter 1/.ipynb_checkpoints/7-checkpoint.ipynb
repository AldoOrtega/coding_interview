{
 "cells": [
  {
   "cell_type": "code",
   "execution_count": 41,
   "metadata": {},
   "outputs": [],
   "source": [
    "class Pos():\n",
    "    def __init__(self, x, y):\n",
    "        self.x = x\n",
    "        self.y = y\n",
    "\n",
    "def nextPos(x,y):\n",
    "\n",
    "\tif(x >= 0):\n",
    "\t\tx+=1\n",
    "\tif(y >= 0):\n",
    "\t\ty+=1\n",
    "\n",
    "\tnext_pos = Pos(y,-x)\n",
    "\n",
    "\tif (next_pos.x >= 0):\n",
    "\t\tnext_pos.x-=1\n",
    "\tif (next_pos.y >= 0):\n",
    "\t\tnext_pos.y-=1\n",
    "\n",
    "\treturn next_pos.x, next_pos.y\n",
    "\n",
    "def rotateMatrix(matrix):\n",
    "\n",
    "\tn = len(matrix)\n",
    "\tfor j in range(int(n/2)):\n",
    "\t\tfor i in range(j,n-1-j):\n",
    "\t\t\tpos = Pos(i,j)\n",
    "\t\t\taux1 = matrix[i][j]\n",
    "\n",
    "\t\t\tfor k in range(4):\n",
    "\t\t\t\tx,y = nextPos(pos.x,pos.y)\n",
    "\t\t\t\tnex = Pos(x,y)\n",
    "\t\t\t\taux2 = matrix[nex.x][nex.y]\n",
    "\t\t\t\tmatrix[nex.x][nex.y] = aux1\n",
    "\t\t\t\taux1 = aux2\n",
    "\t\t\t\tpos = nex\n",
    "\n",
    "\treturn matrix"
   ]
  },
  {
   "cell_type": "code",
   "execution_count": 58,
   "metadata": {},
   "outputs": [],
   "source": [
    "def printMatrix(matrix):    \n",
    "    n = len(matrix)\n",
    "    for i in range(n):\n",
    "        for j in range(n):\n",
    "            if (matrix[i][j] == 1):\n",
    "                print (\"\\033[1;31m\"+\"x\", end=\"  \")\n",
    "            else:\n",
    "                print (\"\\033[1;34m\"+\"o\", end=\"  \")\n",
    "        print (\"\")"
   ]
  },
  {
   "cell_type": "code",
   "execution_count": 112,
   "metadata": {},
   "outputs": [],
   "source": [
    "matrix = [[0,0,0,0,1,0,0,0,0],\n",
    "          [0,0,0,1,1,1,0,0,0],\n",
    "          [0,0,1,0,1,0,1,0,0],\n",
    "          [0,1,0,0,1,0,0,1,0],\n",
    "          [1,0,0,0,1,0,0,0,1],\n",
    "          [0,0,0,0,1,0,0,0,0],\n",
    "          [0,0,0,0,1,0,0,0,0],\n",
    "          [0,0,0,0,1,0,0,0,0],\n",
    "          [0,0,0,0,1,0,0,0,0],]"
   ]
  },
  {
   "cell_type": "code",
   "execution_count": 113,
   "metadata": {},
   "outputs": [
    {
     "name": "stdout",
     "output_type": "stream",
     "text": [
      "\u001b[1;34mo  \u001b[1;34mo  \u001b[1;34mo  \u001b[1;34mo  \u001b[1;31mx  \u001b[1;34mo  \u001b[1;34mo  \u001b[1;34mo  \u001b[1;34mo  \n",
      "\u001b[1;34mo  \u001b[1;34mo  \u001b[1;34mo  \u001b[1;31mx  \u001b[1;31mx  \u001b[1;31mx  \u001b[1;34mo  \u001b[1;34mo  \u001b[1;34mo  \n",
      "\u001b[1;34mo  \u001b[1;34mo  \u001b[1;31mx  \u001b[1;34mo  \u001b[1;31mx  \u001b[1;34mo  \u001b[1;31mx  \u001b[1;34mo  \u001b[1;34mo  \n",
      "\u001b[1;34mo  \u001b[1;31mx  \u001b[1;34mo  \u001b[1;34mo  \u001b[1;31mx  \u001b[1;34mo  \u001b[1;34mo  \u001b[1;31mx  \u001b[1;34mo  \n",
      "\u001b[1;31mx  \u001b[1;34mo  \u001b[1;34mo  \u001b[1;34mo  \u001b[1;31mx  \u001b[1;34mo  \u001b[1;34mo  \u001b[1;34mo  \u001b[1;31mx  \n",
      "\u001b[1;34mo  \u001b[1;34mo  \u001b[1;34mo  \u001b[1;34mo  \u001b[1;31mx  \u001b[1;34mo  \u001b[1;34mo  \u001b[1;34mo  \u001b[1;34mo  \n",
      "\u001b[1;34mo  \u001b[1;34mo  \u001b[1;34mo  \u001b[1;34mo  \u001b[1;31mx  \u001b[1;34mo  \u001b[1;34mo  \u001b[1;34mo  \u001b[1;34mo  \n",
      "\u001b[1;34mo  \u001b[1;34mo  \u001b[1;34mo  \u001b[1;34mo  \u001b[1;31mx  \u001b[1;34mo  \u001b[1;34mo  \u001b[1;34mo  \u001b[1;34mo  \n",
      "\u001b[1;34mo  \u001b[1;34mo  \u001b[1;34mo  \u001b[1;34mo  \u001b[1;31mx  \u001b[1;34mo  \u001b[1;34mo  \u001b[1;34mo  \u001b[1;34mo  \n"
     ]
    }
   ],
   "source": [
    "printMatrix(matrix)"
   ]
  },
  {
   "cell_type": "code",
   "execution_count": 114,
   "metadata": {},
   "outputs": [
    {
     "name": "stdout",
     "output_type": "stream",
     "text": [
      "\u001b[1;34mo  \u001b[1;34mo  \u001b[1;34mo  \u001b[1;34mo  \u001b[1;31mx  \u001b[1;34mo  \u001b[1;34mo  \u001b[1;34mo  \u001b[1;34mo  \n",
      "\u001b[1;34mo  \u001b[1;34mo  \u001b[1;34mo  \u001b[1;34mo  \u001b[1;34mo  \u001b[1;31mx  \u001b[1;34mo  \u001b[1;34mo  \u001b[1;34mo  \n",
      "\u001b[1;34mo  \u001b[1;34mo  \u001b[1;34mo  \u001b[1;34mo  \u001b[1;34mo  \u001b[1;34mo  \u001b[1;31mx  \u001b[1;34mo  \u001b[1;34mo  \n",
      "\u001b[1;34mo  \u001b[1;34mo  \u001b[1;34mo  \u001b[1;34mo  \u001b[1;34mo  \u001b[1;34mo  \u001b[1;34mo  \u001b[1;31mx  \u001b[1;34mo  \n",
      "\u001b[1;31mx  \u001b[1;31mx  \u001b[1;31mx  \u001b[1;31mx  \u001b[1;31mx  \u001b[1;31mx  \u001b[1;31mx  \u001b[1;31mx  \u001b[1;31mx  \n",
      "\u001b[1;34mo  \u001b[1;34mo  \u001b[1;34mo  \u001b[1;34mo  \u001b[1;34mo  \u001b[1;34mo  \u001b[1;34mo  \u001b[1;31mx  \u001b[1;34mo  \n",
      "\u001b[1;34mo  \u001b[1;34mo  \u001b[1;34mo  \u001b[1;34mo  \u001b[1;34mo  \u001b[1;34mo  \u001b[1;31mx  \u001b[1;34mo  \u001b[1;34mo  \n",
      "\u001b[1;34mo  \u001b[1;34mo  \u001b[1;34mo  \u001b[1;34mo  \u001b[1;34mo  \u001b[1;31mx  \u001b[1;34mo  \u001b[1;34mo  \u001b[1;34mo  \n",
      "\u001b[1;34mo  \u001b[1;34mo  \u001b[1;34mo  \u001b[1;34mo  \u001b[1;31mx  \u001b[1;34mo  \u001b[1;34mo  \u001b[1;34mo  \u001b[1;34mo  \n"
     ]
    }
   ],
   "source": [
    "printMatrix(rotateMatrix(matrix))"
   ]
  },
  {
   "cell_type": "code",
   "execution_count": null,
   "metadata": {},
   "outputs": [],
   "source": []
  }
 ],
 "metadata": {
  "kernelspec": {
   "display_name": "Python 3",
   "language": "python",
   "name": "python3"
  },
  "language_info": {
   "codemirror_mode": {
    "name": "ipython",
    "version": 3
   },
   "file_extension": ".py",
   "mimetype": "text/x-python",
   "name": "python",
   "nbconvert_exporter": "python",
   "pygments_lexer": "ipython3",
   "version": "3.5.2"
  }
 },
 "nbformat": 4,
 "nbformat_minor": 2
}
