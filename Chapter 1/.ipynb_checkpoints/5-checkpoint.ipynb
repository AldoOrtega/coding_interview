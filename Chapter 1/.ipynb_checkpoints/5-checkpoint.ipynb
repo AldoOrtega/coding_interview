{
 "cells": [
  {
   "cell_type": "code",
   "execution_count": 1,
   "metadata": {},
   "outputs": [],
   "source": [
    "def oneAway(str1, str2):\n",
    "    \n",
    "    flag = False\n",
    "    if(len(str1)!=len(str2)):\n",
    "        flag = True\n",
    "    l = min(len(str1),len(str2))\n",
    "    \n",
    "    for i in range(l):\n",
    "        if(str1[i]!=str2[i]):\n",
    "            if flag:\n",
    "                return False\n",
    "            else:\n",
    "                flag = True\n",
    "    \n",
    "    return True"
   ]
  },
  {
   "cell_type": "code",
   "execution_count": null,
   "metadata": {},
   "outputs": [],
   "source": [
    "print(oneAway(pale,pale))\n",
    "print(oneAway(pale,pale))\n",
    "print(oneAway(pale,pale))\n",
    "print(oneAway(pale,pale))"
   ]
  }
 ],
 "metadata": {
  "kernelspec": {
   "display_name": "Python 3",
   "language": "python",
   "name": "python3"
  },
  "language_info": {
   "codemirror_mode": {
    "name": "ipython",
    "version": 3
   },
   "file_extension": ".py",
   "mimetype": "text/x-python",
   "name": "python",
   "nbconvert_exporter": "python",
   "pygments_lexer": "ipython3",
   "version": "3.5.2"
  }
 },
 "nbformat": 4,
 "nbformat_minor": 2
}
